{
  "nbformat": 4,
  "nbformat_minor": 0,
  "metadata": {
    "colab": {
      "provenance": []
    },
    "kernelspec": {
      "name": "python3",
      "display_name": "Python 3"
    },
    "language_info": {
      "name": "python"
    }
  },
  "cells": [
    {
      "cell_type": "markdown",
      "source": [
        "**General Approach** No repeat value\n"
      ],
      "metadata": {
        "id": "GvjBgH5ZXK6g"
      }
    },
    {
      "cell_type": "code",
      "execution_count": 3,
      "metadata": {
        "colab": {
          "base_uri": "https://localhost:8080/"
        },
        "id": "BSK3wmu0XHux",
        "outputId": "47144be6-f8eb-4768-f0d1-253c893ed386"
      },
      "outputs": [
        {
          "output_type": "stream",
          "name": "stdout",
          "text": [
            "15\n"
          ]
        }
      ],
      "source": [
        "# sort the list into a asending or desending order and print the second or second last element\n",
        "lst = [5,2,17,4,1,6,9,10,12,15,11,-5]\n",
        "lst.sort()\n",
        "\n",
        "print('The Second Largest element is:',lst[-2])"
      ]
    },
    {
      "cell_type": "markdown",
      "source": [
        "**with repeat values**"
      ],
      "metadata": {
        "id": "NRh6zR7Nmgvy"
      }
    },
    {
      "cell_type": "code",
      "source": [
        "lst = [5,2,17,4,1,6,9,10,12,15,11,-5,17]\n",
        "\n",
        "max = -999 # float('-inf')\n",
        "secondMax = -999\n",
        "\n",
        "for i in lst:\n",
        "  if i > max :\n",
        "    secondMax = max\n",
        "    max = i\n",
        "  elif  i > secondMax and i < max :\n",
        "    secondMax = i\n",
        "\n",
        "print('The Second Largest Element is:', secondMax)"
      ],
      "metadata": {
        "colab": {
          "base_uri": "https://localhost:8080/"
        },
        "id": "W_E_FnlNmfEF",
        "outputId": "5d258580-8194-46c8-e839-f4cf2770bfce"
      },
      "execution_count": 4,
      "outputs": [
        {
          "output_type": "stream",
          "name": "stdout",
          "text": [
            "The Second Largest Element is: 15\n"
          ]
        }
      ]
    }
  ]
}